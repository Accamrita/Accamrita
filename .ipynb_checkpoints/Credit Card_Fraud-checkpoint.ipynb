{
 "cells": [
  {
   "cell_type": "markdown",
   "id": "ac09229c-d6a7-41b3-bbdd-19dccafca0b6",
   "metadata": {},
   "source": [
    "<h1  style=\"text-align: center\" class=\"list-group-item list-group-item-action active\"></h1><a id = \"1\" ></a>\n",
    "<div style=\"background-color: #F2EBE6; padding: 15px; border-radius: 10px; border: 2px solid #8B4513;\">\n",
    "    <li> Credit Card is being used for online transactions and easily it can be misused by Fruadsters.</li>"
   ]
  },
  {
   "cell_type": "code",
   "execution_count": 3,
   "id": "8dea52a2-3dd1-4c14-b1ed-35f17fac89d2",
   "metadata": {},
   "outputs": [
    {
     "name": "stdout",
     "output_type": "stream",
     "text": [
      "Collecting mlxtend\n",
      "  Downloading mlxtend-0.23.1-py3-none-any.whl.metadata (7.3 kB)\n",
      "Requirement already satisfied: scipy>=1.2.1 in c:\\users\\tiaa user\\anaconda3\\lib\\site-packages (from mlxtend) (1.11.4)\n",
      "Requirement already satisfied: numpy>=1.16.2 in c:\\users\\tiaa user\\anaconda3\\lib\\site-packages (from mlxtend) (1.26.4)\n",
      "Requirement already satisfied: pandas>=0.24.2 in c:\\users\\tiaa user\\anaconda3\\lib\\site-packages (from mlxtend) (2.1.4)\n",
      "Requirement already satisfied: scikit-learn>=1.0.2 in c:\\users\\tiaa user\\anaconda3\\lib\\site-packages (from mlxtend) (1.2.2)\n",
      "Requirement already satisfied: matplotlib>=3.0.0 in c:\\users\\tiaa user\\anaconda3\\lib\\site-packages (from mlxtend) (3.8.0)\n",
      "Requirement already satisfied: joblib>=0.13.2 in c:\\users\\tiaa user\\anaconda3\\lib\\site-packages (from mlxtend) (1.2.0)\n",
      "Requirement already satisfied: contourpy>=1.0.1 in c:\\users\\tiaa user\\anaconda3\\lib\\site-packages (from matplotlib>=3.0.0->mlxtend) (1.2.0)\n",
      "Requirement already satisfied: cycler>=0.10 in c:\\users\\tiaa user\\anaconda3\\lib\\site-packages (from matplotlib>=3.0.0->mlxtend) (0.11.0)\n",
      "Requirement already satisfied: fonttools>=4.22.0 in c:\\users\\tiaa user\\anaconda3\\lib\\site-packages (from matplotlib>=3.0.0->mlxtend) (4.25.0)\n",
      "Requirement already satisfied: kiwisolver>=1.0.1 in c:\\users\\tiaa user\\anaconda3\\lib\\site-packages (from matplotlib>=3.0.0->mlxtend) (1.4.4)\n",
      "Requirement already satisfied: packaging>=20.0 in c:\\users\\tiaa user\\anaconda3\\lib\\site-packages (from matplotlib>=3.0.0->mlxtend) (23.1)\n",
      "Requirement already satisfied: pillow>=6.2.0 in c:\\users\\tiaa user\\anaconda3\\lib\\site-packages (from matplotlib>=3.0.0->mlxtend) (10.2.0)\n",
      "Requirement already satisfied: pyparsing>=2.3.1 in c:\\users\\tiaa user\\anaconda3\\lib\\site-packages (from matplotlib>=3.0.0->mlxtend) (3.0.9)\n",
      "Requirement already satisfied: python-dateutil>=2.7 in c:\\users\\tiaa user\\anaconda3\\lib\\site-packages (from matplotlib>=3.0.0->mlxtend) (2.8.2)\n",
      "Requirement already satisfied: pytz>=2020.1 in c:\\users\\tiaa user\\anaconda3\\lib\\site-packages (from pandas>=0.24.2->mlxtend) (2023.3.post1)\n",
      "Requirement already satisfied: tzdata>=2022.1 in c:\\users\\tiaa user\\anaconda3\\lib\\site-packages (from pandas>=0.24.2->mlxtend) (2023.3)\n",
      "Requirement already satisfied: threadpoolctl>=2.0.0 in c:\\users\\tiaa user\\anaconda3\\lib\\site-packages (from scikit-learn>=1.0.2->mlxtend) (2.2.0)\n",
      "Requirement already satisfied: six>=1.5 in c:\\users\\tiaa user\\anaconda3\\lib\\site-packages (from python-dateutil>=2.7->matplotlib>=3.0.0->mlxtend) (1.16.0)\n",
      "Downloading mlxtend-0.23.1-py3-none-any.whl (1.4 MB)\n",
      "   ---------------------------------------- 0.0/1.4 MB ? eta -:--:--\n",
      "    --------------------------------------- 0.0/1.4 MB ? eta -:--:--\n",
      "   ----- ---------------------------------- 0.2/1.4 MB 2.8 MB/s eta 0:00:01\n",
      "   ---------- ----------------------------- 0.4/1.4 MB 3.9 MB/s eta 0:00:01\n",
      "   ----------------- ---------------------- 0.6/1.4 MB 4.5 MB/s eta 0:00:01\n",
      "   ----------------------- ---------------- 0.8/1.4 MB 4.5 MB/s eta 0:00:01\n",
      "   ----------------------------- ---------- 1.1/1.4 MB 4.8 MB/s eta 0:00:01\n",
      "   ------------------------------------- -- 1.3/1.4 MB 4.3 MB/s eta 0:00:01\n",
      "   ---------------------------------------  1.4/1.4 MB 4.0 MB/s eta 0:00:01\n",
      "   ---------------------------------------- 1.4/1.4 MB 4.0 MB/s eta 0:00:00\n",
      "Installing collected packages: mlxtend\n",
      "Successfully installed mlxtend-0.23.1\n"
     ]
    }
   ],
   "source": [
    "!pip install mlxtend"
   ]
  },
  {
   "cell_type": "code",
   "execution_count": 1,
   "id": "27edcbaf-b688-45e6-98d8-c038f13578d1",
   "metadata": {},
   "outputs": [
    {
     "name": "stdout",
     "output_type": "stream",
     "text": [
      "Requirement already satisfied: xgboost in c:\\users\\tiaa user\\anaconda3\\lib\\site-packages (2.1.0)\n",
      "Requirement already satisfied: numpy in c:\\users\\tiaa user\\anaconda3\\lib\\site-packages (from xgboost) (1.26.4)\n",
      "Requirement already satisfied: scipy in c:\\users\\tiaa user\\anaconda3\\lib\\site-packages (from xgboost) (1.11.4)\n"
     ]
    }
   ],
   "source": [
    "!pip install xgboost"
   ]
  },
  {
   "cell_type": "code",
   "execution_count": 6,
   "id": "bd0ba4cc",
   "metadata": {},
   "outputs": [],
   "source": [
    "# Importing Required Libraries\n",
    "import pandas as pd\n",
    "import numpy as np\n",
    "import matplotlib.pyplot as plt\n",
    "import seaborn as sns\n",
    "from xgboost import XGBClassifier\n",
    "\n",
    "from sklearn.linear_model import LogisticRegression\n",
    "from sklearn.neighbors import KNeighborsClassifier\n",
    "from sklearn.tree import DecisionTreeClassifier\n",
    "from sklearn.ensemble import RandomForestClassifier\n",
    "from sklearn.preprocessing import StandardScaler\n",
    "from sklearn.naive_bayes import GaussianNB\n",
    "from sklearn.svm import SVC\n",
    "\n",
    "from mlxtend.plotting import plot_learning_curves\n",
    "from sklearn.model_selection import train_test_split\n",
    "from imblearn.over_sampling import SMOTE\n",
    "from sklearn.metrics import precision_score, recall_score, auc, roc_curve, f1_score, roc_auc_score, accuracy_score, classification_report, confusion_matrix, ConfusionMatrixDisplay\n",
    "from sklearn.model_selection import KFold, StratifiedKFold\n",
    "from sklearn.preprocessing import StandardScaler\n",
    "from sklearn.pipeline import Pipeline\n",
    "from sklearn.model_selection import GridSearchCV\n",
    "from sklearn.metrics import make_scorer, matthews_corrcoef\n",
    "\n",
    "import warnings\n",
    "warnings.filterwarnings(\"ignore\")"
   ]
  },
  {
   "cell_type": "markdown",
   "id": "90c92e57-89db-4a29-a33b-bcd3cbccfcfa",
   "metadata": {},
   "source": [
    "<h1  style=\"text-align: center\" class=\"list-group-item list-group-item-action active\"></h1><a id = \"1\" ></a>\n",
    "<div style=\"background-color: #F2EBE6; padding: 15px; border-radius: 10px; border: 2px solid #8B4513;\">\n",
    "* Module is about data prediction if  there is  a fraud transaction or not.\n"
   ]
  },
  {
   "cell_type": "code",
   "execution_count": null,
   "id": "3140423c-ec29-4e8b-920c-334ce4f20baf",
   "metadata": {},
   "outputs": [],
   "source": [
    "# Read Data into a Dataframe\n",
    "df = pd.read_csv('creditcard.csv')\n",
    "df"
   ]
  },
  {
   "cell_type": "code",
   "execution_count": null,
   "id": "960a9792",
   "metadata": {},
   "outputs": [],
   "source": [
    "# Get a concise summary of the dataset\n",
    "df.info()"
   ]
  },
  {
   "cell_type": "code",
   "execution_count": null,
   "id": "bf815cbb",
   "metadata": {},
   "outputs": [],
   "source": [
    "df.shape"
   ]
  },
  {
   "cell_type": "code",
   "execution_count": null,
   "id": "4a598b05",
   "metadata": {},
   "outputs": [],
   "source": [
    "# Checking null values\n",
    "df.isnull().sum()"
   ]
  },
  {
   "cell_type": "code",
   "execution_count": null,
   "id": "08e9d9d9",
   "metadata": {},
   "outputs": [],
   "source": [
    "df.columns"
   ]
  },
  {
   "cell_type": "markdown",
   "id": "b26ac879",
   "metadata": {},
   "source": [
    "<div style=\"background-color: #F2EBE6; padding: 15px; border-radius: 10px; border: 2px solid #8B4513;\">\n",
    "    <h2 style=\"color: #8B4513;\">Inference </h2>\n",
    "    <ul>\n",
    "        <li>Data Understanding\n",
    "        <li>The Dataset we use is the  Credit Card Fraud Detection Dataset.\n",
    "        <li>The Data has <b>31 features</b> from ,<b>V1-V28</b> which are unknown for confidentiality, <b>TIme</b>, <b>Amount</b> and <b>Class</b>\n",
    "        <li>The input features are <b>V1-V28</b>, <b>Time</b> and <b>Amount</b>\n",
    "        <li>The target variable is <b>Class</b>\n",
    "        <li>The Data does not have any <b>missing_values</b> as evident from the below mentioned code, thus need not be handled\n",
    "        <li>The Data consists of all numerical features, and only the Target Variable Class is a categorical feature.\n",
    "        <li>Class 0: Genuine Transaction\n",
    "        <li>Class 1: Fraud Transaction\n"
   ]
  },
  {
   "cell_type": "code",
   "execution_count": null,
   "id": "2d7d12ed",
   "metadata": {},
   "outputs": [],
   "source": [
    "df.describe().T"
   ]
  },
  {
   "cell_type": "code",
   "execution_count": null,
   "id": "3c00039f-446c-424f-a06e-fcdd66e912e8",
   "metadata": {},
   "outputs": [],
   "source": [
    "<div style=\"background-color: #F2EBE6; padding: 15px; border-radius: 10px; border: 2px solid #8B4513;\">\n",
    "    <h2 style=\"color: #8B4513;\"> </h2>\n",
    "    <ul>\n",
    "<li>Data Quality is good\n",
    "<li>The Data has only Target Variable Class as the categorical variable.\n",
    "<li>The mean amount  <b>88.34</b>\n",
    "<li>The standard deviation amount <b>250.12</b>"
   ]
  },
  {
   "cell_type": "code",
   "execution_count": null,
   "id": "5ca82945",
   "metadata": {},
   "outputs": [],
   "source": [
    "# Check the distribution of the target variable\n",
    "fraud=len(df[df['Class']==1])\n",
    "genuine=len(df[df['Class']==0])\n",
    "print('Number of Fraud Cases:',fraud)\n",
    "print('Number of Non Fraud Cases:',genuine)"
   ]
  },
  {
   "cell_type": "code",
   "execution_count": null,
   "id": "82afa4dd",
   "metadata": {},
   "outputs": [],
   "source": [
    "# Visualize the distribution of the target variable\n",
    "percentage = df['Class'].value_counts(normalize=True)*100\n",
    "\n",
    "# Plotting the percentage of each class\n",
    "plt.figure(figsize=(8, 5))\n",
    "ax = sns.barplot(x=percentage.index, y=percentage, palette=['darkturquoise', 'royalblue'])\n",
    "plt.title('Percentage of Not Fraud and Fraud')\n",
    "plt.xlabel('Class')\n",
    "plt.ylabel('Percentage (%)')\n",
    "plt.xticks(ticks=[0, 1], labels=['Genuine', 'Fraud'])\n",
    "plt.yticks(ticks=range(0,100,10))\n",
    "\n",
    "# Displaying the percentage on the bars\n",
    "for i, p in enumerate(percentage):\n",
    "    ax.text(i, p + 0.5, f'{p:.2f}%', ha='center', va='bottom')\n",
    "\n",
    "plt.show()"
   ]
  },
  {
   "cell_type": "code",
   "execution_count": null,
   "id": "da78c5c8",
   "metadata": {},
   "outputs": [],
   "source": [
    "fraud=df[df['Class']==1]\n",
    "genuine=df[df['Class']==0]"
   ]
  },
  {
   "cell_type": "code",
   "execution_count": null,
   "id": "d5ed1df9",
   "metadata": {},
   "outputs": [],
   "source": [
    "fraud.Amount.describe()"
   ]
  },
  {
   "cell_type": "code",
   "execution_count": null,
   "id": "6e1e29e7",
   "metadata": {},
   "outputs": [],
   "source": [
    "genuine.Amount.describe()"
   ]
  },
  {
   "cell_type": "code",
   "execution_count": null,
   "id": "a4cf2097",
   "metadata": {},
   "outputs": [],
   "source": [
    "df.hist(figsize=(20,20),color='lightblue')\n",
    "plt.show()"
   ]
  },
  {
   "cell_type": "code",
   "execution_count": null,
   "id": "e6b11d74",
   "metadata": {},
   "outputs": [],
   "source": [
    "def pairplot_data_grid(data, feature1, feature2, target):\n",
    "    '''\n",
    "        Method to construct pairplot of the given feature wrt data\n",
    "        Parameters:\n",
    "            data(pd.DataFrame): Input Dataframe\n",
    "            feature1(str): First Feature for Pair Plot\n",
    "            feature2(str): Second Feature for Pair Plot\n",
    "            target: Target or Label (y)\n",
    "    '''\n",
    "\n",
    "    sns.FacetGrid(data, hue=target,height=5,\n",
    "    aspect=3,).map(plt.scatter, feature1, feature2).add_legend()\n",
    "    plt.show()"
   ]
  },
  {
   "cell_type": "code",
   "execution_count": null,
   "id": "2a408ffd",
   "metadata": {},
   "outputs": [],
   "source": [
    "pairplot_data_grid(df, \"Time\", \"Amount\", \"Class\")"
   ]
  },
  {
   "cell_type": "code",
   "execution_count": null,
   "id": "8da3cfe9",
   "metadata": {
    "scrolled": true
   },
   "outputs": [],
   "source": [
    "pairplot_data_grid(df, \"Amount\", \"Time\", \"Class\")"
   ]
  },
  {
   "cell_type": "code",
   "execution_count": null,
   "id": "53f32413-b98d-4ea9-acc3-a93f637cb790",
   "metadata": {},
   "outputs": [],
   "source": [
    "<div style=\"background-color: #F2EBE6; padding: 15px; border-radius: 10px; border: 2px solid #8B4513;\">\n",
    "    <h2 style=\"color: #8B4513;\">Observations </h2>\n",
    "    <ul>\n",
    "<li>Fraud Transactions are below 2500.\n"
   ]
  },
  {
   "cell_type": "markdown",
   "id": "24a5c404",
   "metadata": {},
   "source": []
  },
  {
   "cell_type": "code",
   "execution_count": null,
   "id": "f32995d1",
   "metadata": {},
   "outputs": [],
   "source": [
    "sns.FacetGrid(df, hue=\"Class\", height=5, aspect=2).map(sns.distplot,\"Time\").add_legend()\n",
    "plt.show()"
   ]
  },
  {
   "cell_type": "code",
   "execution_count": null,
   "id": "483a99da",
   "metadata": {},
   "outputs": [],
   "source": [
    "# Correlation matrix\n",
    "corrmat = df.corr()\n",
    "top_corr_features = corrmat.index\n",
    "plt.figure(figsize=(20,20))\n",
    "plt.title('Credit Card Transactions features correlation plot (Pearson)')\n",
    "#plot heat map\n",
    "g=sns.heatmap(df[top_corr_features].corr(),annot=True,linewidths=.1)"
   ]
  },
  {
   "cell_type": "markdown",
   "id": "09873ae4",
   "metadata": {},
   "source": [
    "<h1  style=\"text-align: center\" class=\"list-group-item list-group-item-action active\">3. Segregating data</h1>"
   ]
  },
  {
   "cell_type": "code",
   "execution_count": null,
   "id": "9b50f4f5",
   "metadata": {},
   "outputs": [],
   "source": [
    "X = df.drop(columns='Class', axis=1) #Features\n",
    "y = df['Class']                      #Target Variable"
   ]
  },
  {
   "cell_type": "code",
   "execution_count": null,
   "id": "65e40095",
   "metadata": {},
   "outputs": [],
   "source": [
    "X_train, X_test, y_train, y_test = train_test_split(X, y, test_size=0.2, random_state=42, stratify=y)"
   ]
  },
  {
   "cell_type": "code",
   "execution_count": null,
   "id": "ffd5fc5b",
   "metadata": {},
   "outputs": [],
   "source": [
    "smote = SMOTE(random_state=0)\n",
    "\n",
    "X_train, y_train = smote.fit_resample(X_train,y_train)\n",
    "X_test, y_test = smote.fit_resample(X_test,y_test)"
   ]
  },
  {
   "cell_type": "code",
   "execution_count": null,
   "id": "2bea2c26",
   "metadata": {},
   "outputs": [],
   "source": [
    "scaler = StandardScaler()\n",
    "X_train = scaler.fit_transform(X_train)\n",
    "X_test = scaler.transform(X_test)"
   ]
  },
  {
   "cell_type": "code",
   "execution_count": null,
   "id": "1096c82a",
   "metadata": {
    "scrolled": true
   },
   "outputs": [],
   "source": [
    "y_train.value_counts()"
   ]
  },
  {
   "cell_type": "markdown",
   "id": "a03843a6",
   "metadata": {},
   "source": [
    "<h1  style=\"text-align: center\" class=\"list-group-item list-group-item-action active\">4. Module for Model creation</h1>"
   ]
  },
  {
   "cell_type": "code",
   "execution_count": null,
   "id": "12314534",
   "metadata": {},
   "outputs": [],
   "source": [
    "def evaluate_model(model, X_test, y_test, X_train, y_train):\n",
    "    model = model.fit(X_train, y_train)\n",
    "    # Make predictions\n",
    "    y_pred_test = model.predict(X_test)\n",
    "    y_pred_train = model.predict(X_train)\n",
    "    \n",
    "    # Accuracy\n",
    "    accuracy_test = accuracy_score(y_test, y_pred_test)\n",
    "    accuracy_train = accuracy_score(y_train, y_pred_train)\n",
    "    # F1 Score\n",
    "    f1_test = f1_score(y_test, y_pred_test, average='weighted')\n",
    "    f1_train = f1_score(y_train, y_pred_train, average='weighted')\n",
    "    \n",
    "    # Confusion Matrix\n",
    "    cm_test = confusion_matrix(y_test, y_pred_test)\n",
    "    cm_train = confusion_matrix(y_train, y_pred_train)\n",
    "    \n",
    "    # Classification Report\n",
    "    report_test = classification_report(y_test, y_pred_test)\n",
    "    report_train = classification_report(y_train, y_pred_train)\n",
    "    \n",
    "    print('Test Data Results:')\n",
    "    print(f'Accuracy: {accuracy_test}')\n",
    "    print('Confusion Matrix:')\n",
    "    print(cm_test)\n",
    "    print('Classification Report:')\n",
    "    print(report_test)\n",
    "    \n",
    "    print('Train Data Results:')\n",
    "    print(f'Accuracy: {accuracy_train}')\n",
    "    print('Confusion Matrix:')\n",
    "    print(cm_train)\n",
    "    print('Classification Report:')\n",
    "    print(report_train)\n",
    "    \n",
    "    # Confusion Matrix Visualization for Test Data\n",
    "    plt.figure(figsize=(8, 6))\n",
    "    sns.heatmap(cm_test, annot=True, fmt='d', cmap='Blues', xticklabels=np.unique(y_test), yticklabels=np.unique(y_test))\n",
    "    plt.xlabel('Predicted')\n",
    "    plt.ylabel('Actual')\n",
    "    plt.title('Confusion Matrix (Test Data)')\n",
    "    plt.show()\n",
    "    \n",
    "    # Confusion Matrix Visualization for Train Data\n",
    "    plt.figure(figsize=(8, 6))\n",
    "    sns.heatmap(cm_train, annot=True, fmt='d', cmap='Blues', xticklabels=np.unique(y_train), yticklabels=np.unique(y_train))\n",
    "    plt.xlabel('Predicted')\n",
    "    plt.ylabel('Actual')\n",
    "    plt.title('Confusion Matrix (Train Data)')\n",
    "    plt.show()\n",
    "    \n",
    "    # ROC Curve and AUC for Test Data\n",
    "    if hasattr(model, \"predict_proba\"):\n",
    "        y_prob_test = model.predict_proba(X_test)[:, 1]\n",
    "        y_prob_train = model.predict_proba(X_train)[:, 1]\n",
    "    else:\n",
    "        y_prob_test = model.decision_function(X_test)\n",
    "        y_prob_train = model.decision_function(X_train)\n",
    "    \n",
    "    fpr_test, tpr_test, _ = roc_curve(y_test, y_prob_test)\n",
    "    roc_auc_test = auc(fpr_test, tpr_test)\n",
    "    \n",
    "    fpr_train, tpr_train, _ = roc_curve(y_train, y_prob_train)\n",
    "    roc_auc_train = auc(fpr_train, tpr_train)\n",
    "    \n",
    "    plt.figure(figsize=(8, 6))\n",
    "    plt.plot(fpr_test, tpr_test, color='darkorange', lw=2, label=f'ROC curve (test data) (area = {roc_auc_test:.2f})')\n",
    "    plt.plot(fpr_train, tpr_train, color='blue', lw=2, label=f'ROC curve (train data) (area = {roc_auc_train:.2f})')\n",
    "    plt.plot([0, 1], [0, 1], color='navy', lw=2, linestyle='--')\n",
    "    plt.xlim([0.0, 1.0])\n",
    "    plt.ylim([0.0, 1.05])\n",
    "    plt.xlabel('False Positive Rate')\n",
    "    plt.ylabel('True Positive Rate')\n",
    "    plt.title('Receiver Operating Characteristic (ROC) Curve')\n",
    "    plt.legend(loc=\"lower right\")\n",
    "    plt.show()\n"
   ]
  },
  {
   "cell_type": "markdown",
   "id": "d9b44fb0",
   "metadata": {},
   "source": [
    "## Model Logistic, KNeighbors, Decision Making Tree, Ramdom Forest, Gaussian NB, SVC , XGB building & Evaluation"
   ]
  },
  {
   "cell_type": "code",
   "execution_count": null,
   "id": "53917ada",
   "metadata": {
    "scrolled": true
   },
   "outputs": [],
   "source": [
    "evaluate_model(LogisticRegression(), X_test, y_test, X_train, y_train)"
   ]
  },
  {
   "cell_type": "code",
   "execution_count": null,
   "id": "e89f556c",
   "metadata": {},
   "outputs": [],
   "source": [
    "evaluate_model(KNeighborsClassifier(), X_test, y_test, X_train, y_train)"
   ]
  },
  {
   "cell_type": "code",
   "execution_count": null,
   "id": "0ba2f55c",
   "metadata": {},
   "outputs": [],
   "source": [
    "evaluate_model(DecisionTreeClassifier(), X_test, y_test, X_train, y_train)"
   ]
  },
  {
   "cell_type": "code",
   "execution_count": null,
   "id": "7a014dbd",
   "metadata": {},
   "outputs": [],
   "source": [
    "evaluate_model(RandomForestClassifier(), X_test, y_test, X_train, y_train)"
   ]
  },
  {
   "cell_type": "code",
   "execution_count": null,
   "id": "859d2d38",
   "metadata": {},
   "outputs": [],
   "source": [
    "evaluate_model(GaussianNB(), X_test, y_test, X_train, y_train)"
   ]
  },
  {
   "cell_type": "code",
   "execution_count": null,
   "id": "e024e7af",
   "metadata": {},
   "outputs": [],
   "source": [
    "evaluate_model(SVC(), X_test, y_test, X_train, y_train)"
   ]
  },
  {
   "cell_type": "code",
   "execution_count": null,
   "id": "56849f29",
   "metadata": {},
   "outputs": [],
   "source": [
    "evaluate_model(XGBClassifier(), X_test, y_test, X_train, y_train)"
   ]
  },
  {
   "cell_type": "code",
   "execution_count": null,
   "id": "121657ac",
   "metadata": {
    "scrolled": true
   },
   "outputs": [],
   "source": [
    "# Given dictionary\n",
    "result = {\n",
    "    'LogisticRegression': [98.28, 558, 0.98],\n",
    "    'KNeighborsClassifier': [95.19, 94, 0.95],\n",
    "    'DecisionTreeClassifier': [95.81, 112, 0.96],\n",
    "    'RandomForestClassifier':[96.44, 15, 0.96],\n",
    "    'GaussianNB': [93.26, 1404, 0.93],\n",
    "    'SVC': [97.16, 152, 0.97],\n",
    "    'XGBClassifier': [97.60, 21, 0.98]\n",
    "}\n",
    "\n",
    "# Create a DataFrame\n",
    "df = pd.DataFrame(result, index=['Test Accuracy', 'False Negative', 'F1_Score']).T\n",
    "\n",
    "# Sort the DataFrame by 'Test Accuracy' in descending order and 'False Negative' in ascending order\n",
    "df_sorted = df.sort_values(by=['Test Accuracy', 'False Negative','F1_Score'], ascending=[False, True, True])\n",
    "\n",
    "# Display the sorted DataFrame\n",
    "df_sorted\n"
   ]
  },
  {
   "cell_type": "code",
   "execution_count": null,
   "id": "4c299ae4",
   "metadata": {},
   "outputs": [],
   "source": [
    "import joblib"
   ]
  },
  {
   "cell_type": "code",
   "execution_count": null,
   "id": "0ea5ad38",
   "metadata": {},
   "outputs": [],
   "source": [
    "lr_model = LogisticRegression()"
   ]
  },
  {
   "cell_type": "code",
   "execution_count": null,
   "id": "f1a32bfb",
   "metadata": {},
   "outputs": [],
   "source": [
    "best_model = lr_model.fit(X_train, y_train)"
   ]
  },
  {
   "cell_type": "code",
   "execution_count": null,
   "id": "15b34562",
   "metadata": {},
   "outputs": [],
   "source": [
    "joblib.dump(best_model,'model_file.pkl')"
   ]
  },
  {
   "cell_type": "code",
   "execution_count": null,
   "id": "08f1304f",
   "metadata": {},
   "outputs": [],
   "source": []
  }
 ],
 "metadata": {
  "kernelspec": {
   "display_name": "Python 3 (ipykernel)",
   "language": "python",
   "name": "python3"
  },
  "language_info": {
   "codemirror_mode": {
    "name": "ipython",
    "version": 3
   },
   "file_extension": ".py",
   "mimetype": "text/x-python",
   "name": "python",
   "nbconvert_exporter": "python",
   "pygments_lexer": "ipython3",
   "version": "3.11.7"
  }
 },
 "nbformat": 4,
 "nbformat_minor": 5
}
